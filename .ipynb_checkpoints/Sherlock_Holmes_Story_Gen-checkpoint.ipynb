{
 "cells": [
  {
   "cell_type": "code",
   "execution_count": null,
   "id": "c7144d08",
   "metadata": {},
   "outputs": [],
   "source": [
    "#Importing the necessary python packages\n",
    "import pandas as pd"
   ]
  },
  {
   "cell_type": "code",
   "execution_count": 7,
   "id": "b7f54a16",
   "metadata": {},
   "outputs": [
    {
     "name": "stdout",
     "output_type": "stream",
     "text": [
      "Downloading sherlock-holmes-stories.zip to /Users/iprajwalreddy/Desktop/projects/story_generation\n",
      " 70%|██████████████████████████▊           | 7.00M/9.93M [00:00<00:00, 20.9MB/s]\n",
      "100%|██████████████████████████████████████| 9.93M/9.93M [00:00<00:00, 23.7MB/s]\n"
     ]
    }
   ],
   "source": [
    "#Downloading the data from kaggle\n",
    "!kaggle datasets download -d 'idevji1/sherlock-holmes-stories'"
   ]
  },
  {
   "cell_type": "code",
   "execution_count": 10,
   "id": "ae850de0",
   "metadata": {},
   "outputs": [
    {
     "name": "stdout",
     "output_type": "stream",
     "text": [
      "Sherlock_Holmes_Story_Gen.ipynb sherlock-holmes-stories.zip\r\n"
     ]
    }
   ],
   "source": [
    "!ls"
   ]
  },
  {
   "cell_type": "code",
   "execution_count": 11,
   "id": "05303793",
   "metadata": {},
   "outputs": [],
   "source": [
    "#Unzipping the data\n",
    "import zipfile\n",
    "with zipfile.ZipFile('sherlock-holmes-stories.zip', 'r') as zip_ref:\n",
    "    zip_ref.extractall()"
   ]
  },
  {
   "cell_type": "code",
   "execution_count": 14,
   "id": "85a33f7b",
   "metadata": {},
   "outputs": [
    {
     "name": "stdout",
     "output_type": "stream",
     "text": [
      "Sherlock_Holmes_Story_Gen.ipynb sherlock-holmes-stories.zip\r\n",
      "\u001b[34msherlock\u001b[m\u001b[m\r\n"
     ]
    }
   ],
   "source": [
    "!ls"
   ]
  },
  {
   "cell_type": "code",
   "execution_count": 15,
   "id": "ddff29b3",
   "metadata": {},
   "outputs": [
    {
     "name": "stdout",
     "output_type": "stream",
     "text": [
      "3gab.txt bosc.txt croo.txt gold.txt maza.txt redh.txt sign.txt twis.txt\r\n",
      "3gar.txt bruc.txt danc.txt gree.txt mems.txt reig.txt silv.txt vall.txt\r\n",
      "3stu.txt cano.txt devi.txt houn.txt miss.txt resi.txt sixn.txt veil.txt\r\n",
      "abbe.txt card.txt dyin.txt iden.txt musg.txt reti.txt soli.txt wist.txt\r\n",
      "advs.txt case.txt empt.txt illu.txt nava.txt retn.txt spec.txt yell.txt\r\n",
      "bery.txt chas.txt engr.txt lady.txt nobl.txt scan.txt stoc.txt\r\n",
      "blac.txt cnus.txt fina.txt last.txt norw.txt seco.txt stud.txt\r\n",
      "blan.txt copp.txt five.txt lion.txt prio.txt \u001b[34msherlock\u001b[m\u001b[m suss.txt\r\n",
      "blue.txt cree.txt glor.txt lstb.txt redc.txt shos.txt thor.txt\r\n"
     ]
    }
   ],
   "source": [
    "#Extraction completed!\n",
    "#Checking for the txt files\n",
    "!ls sherlock"
   ]
  },
  {
   "cell_type": "code",
   "execution_count": 33,
   "id": "77d1b505",
   "metadata": {},
   "outputs": [],
   "source": [
    "#Reading the text files \n",
    "import glob\n",
    "data = []\n",
    "# Selecting all the files ending with .txt as that's the data\n",
    "for file in glob.glob('sherlock/*.txt'):\n",
    "    with open(file) as f:\n",
    "        for line in f:\n",
    "            line = line.strip()\n",
    "            if line == '----------':\n",
    "                break\n",
    "            else:\n",
    "                data.append(line)"
   ]
  },
  {
   "cell_type": "code",
   "execution_count": 35,
   "id": "1661caf5",
   "metadata": {},
   "outputs": [
    {
     "data": {
      "text/plain": [
       "['', '', '', '', 'THE \"GLORIA SCOTT\"', '', 'Arthur Conan Doyle', '', '', '']"
      ]
     },
     "execution_count": 35,
     "metadata": {},
     "output_type": "execute_result"
    }
   ],
   "source": [
    "#Checking if the data is read\n",
    "data[0:10]"
   ]
  },
  {
   "cell_type": "code",
   "execution_count": 36,
   "id": "1bf8f698",
   "metadata": {},
   "outputs": [],
   "source": [
    "#Removing the null values in the list\n",
    "data = list(filter(lambda x: x != \"\", data))"
   ]
  },
  {
   "cell_type": "code",
   "execution_count": 38,
   "id": "f2e13632",
   "metadata": {},
   "outputs": [
    {
     "data": {
      "text/plain": [
       "['THE \"GLORIA SCOTT\"',\n",
       " 'Arthur Conan Doyle',\n",
       " '\"I have some papers here,\" said my friend Sherlock Holmes, as we sat',\n",
       " 'one winter\\'s night on either side of the fire, \"which I really think,',\n",
       " 'Watson, that it would be worth your while to glance over. These are',\n",
       " 'the documents in the extraordinary case of the Gloria Scott, and this',\n",
       " 'is the message which struck Justice of the Peace Trevor dead with',\n",
       " 'horror when he read it.\"',\n",
       " 'He had picked from a drawer a little tarnished cylinder, and, undoing',\n",
       " 'the tape, he handed me a short note scrawled upon a half-sheet of']"
      ]
     },
     "execution_count": 38,
     "metadata": {},
     "output_type": "execute_result"
    }
   ],
   "source": [
    "data[0:10]"
   ]
  },
  {
   "cell_type": "code",
   "execution_count": null,
   "id": "6f10151d",
   "metadata": {},
   "outputs": [],
   "source": [
    "#Removing the punctuation marks \n",
    "import string\n",
    "data_without_punc = []"
   ]
  }
 ],
 "metadata": {
  "kernelspec": {
   "display_name": "Python 3",
   "language": "python",
   "name": "python3"
  },
  "language_info": {
   "codemirror_mode": {
    "name": "ipython",
    "version": 3
   },
   "file_extension": ".py",
   "mimetype": "text/x-python",
   "name": "python",
   "nbconvert_exporter": "python",
   "pygments_lexer": "ipython3",
   "version": "3.8.8"
  }
 },
 "nbformat": 4,
 "nbformat_minor": 5
}
